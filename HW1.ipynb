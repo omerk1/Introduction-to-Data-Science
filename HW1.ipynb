{
 "cells": [
  {
   "cell_type": "code",
   "execution_count": 35,
   "metadata": {},
   "outputs": [],
   "source": [
    "import pandas as pd\n",
    "import numpy as np"
   ]
  },
  {
   "cell_type": "code",
   "execution_count": 37,
   "metadata": {},
   "outputs": [
    {
     "data": {
      "text/plain": [
       "<matplotlib.axes._subplots.AxesSubplot at 0x205d2cafba8>"
      ]
     },
     "metadata": {},
     "output_type": "display_data"
    },
    {
     "data": {
      "image/png": "[encoded data removed]",
      "text/plain": [
       "<matplotlib.figure.Figure at 0x205d2caf278>"
      ]
     },
     "metadata": {},
     "output_type": "display_data"
    }
   ],
   "source": [
    "df = pd.read_csv(r\"C:\\Users\\0mer\\CS\\Year3\\Sem_B\\Introduction to Data Science\\HW\\HW1\\bank-full_2016.csv\")\n",
    "import matplotlib.pyplot as plt\n",
    "display(df['balance'].plot.hist())\n",
    "plt.show()"
   ]
  },
  {
   "cell_type": "code",
   "execution_count": 18,
   "metadata": {},
   "outputs": [
    {
     "name": "stdout",
     "output_type": "stream",
     "text": [
      "The dimensions of df are: (45211, 17)\n",
      "\n",
      "The attributes in df are: \n",
      "['age', 'job', 'marital', 'education', 'default_credit', 'balance', 'housing_loan', 'personal_loan', 'contact', 'day', 'month', 'duration', 'campaign', 'days_from_last_contact', 'previous_campaign_contacts', 'previous_campaign_outcome', 'outcome']\n",
      "\n",
      "\n",
      "Outcome frequencies are: \n",
      "outcome\n",
      "no     39922\n",
      "yes     5289\n",
      "dtype: int64\n",
      "\n",
      "\n",
      "The first five rows of the table: \n",
      "   age           job  marital  education default_credit  balance housing_loan  \\\n",
      "0   58    management  married   tertiary             no     2143          yes   \n",
      "1   44    technician   single  secondary             no       29          yes   \n",
      "2   33  entrepreneur  married  secondary             no        2          yes   \n",
      "3   47   blue-collar  married    unknown             no     1506          yes   \n",
      "4   33       unknown   single    unknown             no        1           no   \n",
      "\n",
      "  personal_loan  contact  day month  duration  campaign  \\\n",
      "0            no  unknown    5   may       261         1   \n",
      "1            no  unknown    5   may       151         1   \n",
      "2           yes  unknown    5   may        76         1   \n",
      "3            no  unknown    5   may        92         1   \n",
      "4            no  unknown    5   may       198         1   \n",
      "\n",
      "   days_from_last_contact  previous_campaign_contacts  \\\n",
      "0                     NaN                           0   \n",
      "1                     NaN                           0   \n",
      "2                     NaN                           0   \n",
      "3                     NaN                           0   \n",
      "4                     NaN                           0   \n",
      "\n",
      "  previous_campaign_outcome outcome  \n",
      "0                   unknown      no  \n",
      "1                   unknown      no  \n",
      "2                   unknown      no  \n",
      "3                   unknown      no  \n",
      "4                   unknown      no  \n"
     ]
    }
   ],
   "source": [
    "# Dimensions\n",
    "print(\"The dimensions of df are: %s\\n\" %(df.shape,))\n",
    "\n",
    "# Attributes\n",
    "print(\"The attributes in df are: \")\n",
    "print([attr for attr in  df.columns])\n",
    "print(\"\\n\")\n",
    "\n",
    "# outcome groupby\n",
    "print(\"Outcome frequencies are: \")\n",
    "print(df.groupby(df.outcome).size())\n",
    "print(\"\\n\")\n",
    "\n",
    "# first five rows of the table\n",
    "print(\"The first five rows of the table: \")\n",
    "print(df.head(5))\n"
   ]
  },
  {
   "cell_type": "code",
   "execution_count": 19,
   "metadata": {},
   "outputs": [
    {
     "data": {
      "text/plain": [
       "age                             int64\n",
       "job                            object\n",
       "marital                        object\n",
       "education                      object\n",
       "default_credit                 object\n",
       "balance                         int64\n",
       "housing_loan                   object\n",
       "personal_loan                  object\n",
       "contact                        object\n",
       "day                             int64\n",
       "month                          object\n",
       "duration                        int64\n",
       "campaign                        int64\n",
       "days_from_last_contact        float64\n",
       "previous_campaign_contacts      int64\n",
       "previous_campaign_outcome      object\n",
       "outcome                        object\n",
       "dtype: object"
      ]
     },
     "execution_count": 19,
     "metadata": {},
     "output_type": "execute_result"
    }
   ],
   "source": [
    "df.dtypes"
   ]
  },
  {
   "cell_type": "code",
   "execution_count": 24,
   "metadata": {},
   "outputs": [],
   "source": [
    "df['isContactKnown'] = np.where(df['contact'] == 'unknown', False, True)"
   ]
  },
  {
   "cell_type": "code",
   "execution_count": 25,
   "metadata": {},
   "outputs": [],
   "source": [
    "new_df = df.loc[df['isContactKnown'] != False]"
   ]
  },
  {
   "cell_type": "code",
   "execution_count": null,
   "metadata": {},
   "outputs": [],
   "source": []
  },
  {
   "cell_type": "code",
   "execution_count": null,
   "metadata": {},
   "outputs": [],
   "source": []
  },
  {
   "cell_type": "code",
   "execution_count": null,
   "metadata": {},
   "outputs": [],
   "source": []
  },
  {
   "cell_type": "code",
   "execution_count": null,
   "metadata": {},
   "outputs": [],
   "source": []
  },
  {
   "cell_type": "code",
   "execution_count": 29,
   "metadata": {},
   "outputs": [
    {
     "data": {
      "text/plain": [
       "0.0977827393713475"
      ]
     },
     "execution_count": 29,
     "metadata": {},
     "output_type": "execute_result"
    }
   ],
   "source": [
    "# Q3\n",
    "df['age'].corr(df['balance'])"
   ]
  },
  {
   "cell_type": "code",
   "execution_count": 32,
   "metadata": {},
   "outputs": [
    {
     "data": {
      "text/html": [
       "<div>\n",
       "<style scoped>\n",
       "    .dataframe tbody tr th:only-of-type {\n",
       "        vertical-align: middle;\n",
       "    }\n",
       "\n",
       "    .dataframe tbody tr th {\n",
       "        vertical-align: top;\n",
       "    }\n",
       "\n",
       "    .dataframe thead th {\n",
       "        text-align: right;\n",
       "    }\n",
       "</style>\n",
       "<table border=\"1\" class=\"dataframe\">\n",
       "  <thead>\n",
       "    <tr style=\"text-align: right;\">\n",
       "      <th></th>\n",
       "      <th>age</th>\n",
       "      <th>balance</th>\n",
       "      <th>day</th>\n",
       "      <th>duration</th>\n",
       "      <th>campaign</th>\n",
       "      <th>days_from_last_contact</th>\n",
       "      <th>previous_campaign_contacts</th>\n",
       "    </tr>\n",
       "  </thead>\n",
       "  <tbody>\n",
       "    <tr>\n",
       "      <th>age</th>\n",
       "      <td>1.000000</td>\n",
       "      <td>0.097783</td>\n",
       "      <td>-0.009120</td>\n",
       "      <td>-0.004648</td>\n",
       "      <td>0.004760</td>\n",
       "      <td>-0.107863</td>\n",
       "      <td>0.001288</td>\n",
       "    </tr>\n",
       "    <tr>\n",
       "      <th>balance</th>\n",
       "      <td>0.097783</td>\n",
       "      <td>1.000000</td>\n",
       "      <td>0.004503</td>\n",
       "      <td>0.021560</td>\n",
       "      <td>-0.014578</td>\n",
       "      <td>-0.108122</td>\n",
       "      <td>0.016674</td>\n",
       "    </tr>\n",
       "    <tr>\n",
       "      <th>day</th>\n",
       "      <td>-0.009120</td>\n",
       "      <td>0.004503</td>\n",
       "      <td>1.000000</td>\n",
       "      <td>-0.030206</td>\n",
       "      <td>0.162490</td>\n",
       "      <td>-0.090095</td>\n",
       "      <td>-0.051710</td>\n",
       "    </tr>\n",
       "    <tr>\n",
       "      <th>duration</th>\n",
       "      <td>-0.004648</td>\n",
       "      <td>0.021560</td>\n",
       "      <td>-0.030206</td>\n",
       "      <td>1.000000</td>\n",
       "      <td>-0.084570</td>\n",
       "      <td>-0.024407</td>\n",
       "      <td>0.001203</td>\n",
       "    </tr>\n",
       "    <tr>\n",
       "      <th>campaign</th>\n",
       "      <td>0.004760</td>\n",
       "      <td>-0.014578</td>\n",
       "      <td>0.162490</td>\n",
       "      <td>-0.084570</td>\n",
       "      <td>1.000000</td>\n",
       "      <td>0.050534</td>\n",
       "      <td>-0.032855</td>\n",
       "    </tr>\n",
       "    <tr>\n",
       "      <th>days_from_last_contact</th>\n",
       "      <td>-0.107863</td>\n",
       "      <td>-0.108122</td>\n",
       "      <td>-0.090095</td>\n",
       "      <td>-0.024407</td>\n",
       "      <td>0.050534</td>\n",
       "      <td>1.000000</td>\n",
       "      <td>-0.021885</td>\n",
       "    </tr>\n",
       "    <tr>\n",
       "      <th>previous_campaign_contacts</th>\n",
       "      <td>0.001288</td>\n",
       "      <td>0.016674</td>\n",
       "      <td>-0.051710</td>\n",
       "      <td>0.001203</td>\n",
       "      <td>-0.032855</td>\n",
       "      <td>-0.021885</td>\n",
       "      <td>1.000000</td>\n",
       "    </tr>\n",
       "  </tbody>\n",
       "</table>\n",
       "</div>"
      ],
      "text/plain": [
       "                                 age   balance       day  duration  campaign  \\\n",
       "age                         1.000000  0.097783 -0.009120 -0.004648  0.004760   \n",
       "balance                     0.097783  1.000000  0.004503  0.021560 -0.014578   \n",
       "day                        -0.009120  0.004503  1.000000 -0.030206  0.162490   \n",
       "duration                   -0.004648  0.021560 -0.030206  1.000000 -0.084570   \n",
       "campaign                    0.004760 -0.014578  0.162490 -0.084570  1.000000   \n",
       "days_from_last_contact     -0.107863 -0.108122 -0.090095 -0.024407  0.050534   \n",
       "previous_campaign_contacts  0.001288  0.016674 -0.051710  0.001203 -0.032855   \n",
       "\n",
       "                            days_from_last_contact  previous_campaign_contacts  \n",
       "age                                      -0.107863                    0.001288  \n",
       "balance                                  -0.108122                    0.016674  \n",
       "day                                      -0.090095                   -0.051710  \n",
       "duration                                 -0.024407                    0.001203  \n",
       "campaign                                  0.050534                   -0.032855  \n",
       "days_from_last_contact                    1.000000                   -0.021885  \n",
       "previous_campaign_contacts               -0.021885                    1.000000  "
      ]
     },
     "execution_count": 32,
     "metadata": {},
     "output_type": "execute_result"
    }
   ],
   "source": [
    "numeric_df = df.select_dtypes(include=np.number)\n",
    "numeric_df.corr()"
   ]
  },
  {
   "cell_type": "code",
   "execution_count": null,
   "metadata": {},
   "outputs": [],
   "source": []
  }
 ],
 "metadata": {
  "kernelspec": {
   "display_name": "Python 3",
   "language": "python",
   "name": "python3"
  },
  "language_info": {
   "codemirror_mode": {
    "name": "ipython",
    "version": 3
   },
   "file_extension": ".py",
   "mimetype": "text/x-python",
   "name": "python",
   "nbconvert_exporter": "python",
   "pygments_lexer": "ipython3",
   "version": "3.6.4"
  }
 },
 "nbformat": 4,
 "nbformat_minor": 2
}
